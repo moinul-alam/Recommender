{
 "cells": [
  {
   "cell_type": "code",
   "execution_count": 15,
   "id": "46f17077",
   "metadata": {},
   "outputs": [],
   "source": [
    "import numpy as np\n",
    "import pandas as pd\n",
    "import matplotlib.pyplot as plt"
   ]
  },
  {
   "cell_type": "code",
   "execution_count": 16,
   "id": "bba8bea6",
   "metadata": {},
   "outputs": [],
   "source": [
    "movie_info_path = r\"E:\\1_RecSys\\Recommender\\data\\ml-latest-small\\movies.csv\"\n",
    "ratings_path = r\"E:\\1_RecSys\\Recommender\\data\\ml-latest-small\\ratings.csv\"\n",
    "links_path = r\"E:\\1_RecSys\\Recommender\\data\\ml-latest-small\\links.csv\"\n",
    "tags_path = r\"E:\\1_RecSys\\Recommender\\data\\ml-latest-small\\tags.csv\"\n",
    "\n",
    "movies_df = pd.read_csv(movie_info_path)\n",
    "ratings_df = pd.read_csv(ratings_path)\n",
    "links_df = pd.read_csv(links_path)\n",
    "tags_df = pd.read_csv(tags_path)\n"
   ]
  },
  {
   "cell_type": "code",
   "execution_count": 17,
   "id": "fced5f83",
   "metadata": {},
   "outputs": [],
   "source": [
    "merged_df = pd.merge(ratings_df, movies_df, on='movieId')\n",
    "merged_df = pd.merge(merged_df, links_df, on='movieId')"
   ]
  },
  {
   "cell_type": "code",
   "execution_count": 18,
   "id": "a75953b7",
   "metadata": {},
   "outputs": [],
   "source": [
    "save_path = r\"E:\\1_RecSys\\Recommender\\data\\ml-latest-small\\movielens_dataset.csv\"\n",
    "merged_df.to_csv(save_path, index=False)"
   ]
  }
 ],
 "metadata": {
  "kernelspec": {
   "display_name": "venv",
   "language": "python",
   "name": "python3"
  },
  "language_info": {
   "codemirror_mode": {
    "name": "ipython",
    "version": 3
   },
   "file_extension": ".py",
   "mimetype": "text/x-python",
   "name": "python",
   "nbconvert_exporter": "python",
   "pygments_lexer": "ipython3",
   "version": "3.12.8"
  }
 },
 "nbformat": 4,
 "nbformat_minor": 5
}
