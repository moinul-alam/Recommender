{
 "cells": [
  {
   "cell_type": "code",
   "execution_count": 1,
   "metadata": {},
   "outputs": [],
   "source": [
    "import pandas as pd\n",
    "import numpy as np"
   ]
  },
  {
   "cell_type": "code",
   "execution_count": null,
   "metadata": {},
   "outputs": [],
   "source": [
    "df=pd.read_feather('engineered_features.feather')"
   ]
  },
  {
   "cell_type": "code",
   "execution_count": 4,
   "metadata": {},
   "outputs": [
    {
     "data": {
      "text/html": [
       "<div>\n",
       "<style scoped>\n",
       "    .dataframe tbody tr th:only-of-type {\n",
       "        vertical-align: middle;\n",
       "    }\n",
       "\n",
       "    .dataframe tbody tr th {\n",
       "        vertical-align: top;\n",
       "    }\n",
       "\n",
       "    .dataframe thead th {\n",
       "        text-align: right;\n",
       "    }\n",
       "</style>\n",
       "<table border=\"1\" class=\"dataframe\">\n",
       "  <thead>\n",
       "    <tr style=\"text-align: right;\">\n",
       "      <th></th>\n",
       "      <th>tmdb_id</th>\n",
       "      <th>feature_0</th>\n",
       "      <th>feature_1</th>\n",
       "      <th>feature_2</th>\n",
       "      <th>feature_3</th>\n",
       "      <th>feature_4</th>\n",
       "      <th>feature_5</th>\n",
       "      <th>feature_6</th>\n",
       "      <th>feature_7</th>\n",
       "      <th>feature_8</th>\n",
       "      <th>...</th>\n",
       "      <th>feature_290</th>\n",
       "      <th>feature_291</th>\n",
       "      <th>feature_292</th>\n",
       "      <th>feature_293</th>\n",
       "      <th>feature_294</th>\n",
       "      <th>feature_295</th>\n",
       "      <th>feature_296</th>\n",
       "      <th>feature_297</th>\n",
       "      <th>feature_298</th>\n",
       "      <th>feature_299</th>\n",
       "    </tr>\n",
       "  </thead>\n",
       "  <tbody>\n",
       "    <tr>\n",
       "      <th>876</th>\n",
       "      <td>1396</td>\n",
       "      <td>-0.50949</td>\n",
       "      <td>-0.232605</td>\n",
       "      <td>-0.246479</td>\n",
       "      <td>0.01668</td>\n",
       "      <td>0.02042</td>\n",
       "      <td>-0.002413</td>\n",
       "      <td>0.018395</td>\n",
       "      <td>-0.026003</td>\n",
       "      <td>-0.033126</td>\n",
       "      <td>...</td>\n",
       "      <td>-0.04048</td>\n",
       "      <td>0.027453</td>\n",
       "      <td>-0.005984</td>\n",
       "      <td>-0.032449</td>\n",
       "      <td>0.017989</td>\n",
       "      <td>-0.017706</td>\n",
       "      <td>-0.014556</td>\n",
       "      <td>0.026546</td>\n",
       "      <td>-0.003262</td>\n",
       "      <td>0.054362</td>\n",
       "    </tr>\n",
       "  </tbody>\n",
       "</table>\n",
       "<p>1 rows × 301 columns</p>\n",
       "</div>"
      ],
      "text/plain": [
       "     tmdb_id  feature_0  feature_1  feature_2  feature_3  feature_4  \\\n",
       "876     1396   -0.50949  -0.232605  -0.246479    0.01668    0.02042   \n",
       "\n",
       "     feature_5  feature_6  feature_7  feature_8  ...  feature_290  \\\n",
       "876  -0.002413   0.018395  -0.026003  -0.033126  ...     -0.04048   \n",
       "\n",
       "     feature_291  feature_292  feature_293  feature_294  feature_295  \\\n",
       "876     0.027453    -0.005984    -0.032449     0.017989    -0.017706   \n",
       "\n",
       "     feature_296  feature_297  feature_298  feature_299  \n",
       "876    -0.014556     0.026546    -0.003262     0.054362  \n",
       "\n",
       "[1 rows x 301 columns]"
      ]
     },
     "execution_count": 4,
     "metadata": {},
     "output_type": "execute_result"
    }
   ],
   "source": [
    "row_1396 = df[df['tmdb_id'] == 1396]\n",
    "row_1396.head()"
   ]
  },
  {
   "cell_type": "code",
   "execution_count": null,
   "metadata": {},
   "outputs": [],
   "source": [
    "\n",
    "ratings_file_path = 'data/ratings.csv'\n",
    "links_file_path = 'data/links.csv'\n",
    "\n",
    "ratings = pd.read_csv(ratings_file_path)\n",
    "links = pd.read_csv(links_file_path)\n",
    "\n",
    "print(ratings.head())\n",
    "print(links.head(20))"
   ]
  },
  {
   "cell_type": "code",
   "execution_count": null,
   "metadata": {},
   "outputs": [],
   "source": [
    "merged_df = pd.merge(ratings, links, on='movieId', how='left')\n",
    "print(merged_df.head())"
   ]
  },
  {
   "cell_type": "code",
   "execution_count": null,
   "metadata": {},
   "outputs": [],
   "source": [
    "merged_df.drop(columns=['movieId', 'imdbId'], inplace=True)\n",
    "print(merged_df.head())"
   ]
  },
  {
   "cell_type": "code",
   "execution_count": null,
   "metadata": {},
   "outputs": [],
   "source": [
    "merged_df.rename(columns={'userId': 'user_id'}, inplace=True)\n",
    "merged_df.rename(columns={'tmdbId': 'tmdb_id'}, inplace=True)\n",
    "print(merged_df.head())"
   ]
  },
  {
   "cell_type": "code",
   "execution_count": null,
   "metadata": {},
   "outputs": [],
   "source": [
    "# Define new column order\n",
    "new_order = ['user_id', 'tmdb_id'] + [col for col in merged_df.columns if col not in ['user_id', 'tmdb_id']]\n",
    "\n",
    "# Reorder the DataFrame\n",
    "merged_df = merged_df[new_order]\n",
    "\n",
    "print(merged_df.head())"
   ]
  },
  {
   "cell_type": "code",
   "execution_count": null,
   "metadata": {},
   "outputs": [],
   "source": [
    "print(merged_df.shape)\n",
    "merged_df = merged_df.dropna(subset=['tmdb_id'])\n",
    "print(merged_df.head())\n",
    "print(merged_df.shape)"
   ]
  },
  {
   "cell_type": "code",
   "execution_count": null,
   "metadata": {},
   "outputs": [],
   "source": [
    "num_unique_users = merged_df['user_id'].nunique()\n",
    "num_unique_tmdb = merged_df['tmdb_id'].nunique()\n",
    "\n",
    "print(f\"Number of unique user_id: {num_unique_users}\")\n",
    "print(f\"Number of unique tmdb_id: {num_unique_tmdb}\")"
   ]
  },
  {
   "cell_type": "code",
   "execution_count": 26,
   "metadata": {},
   "outputs": [],
   "source": [
    "merged_df.to_csv('movielens_dataset.csv', index=False)"
   ]
  },
  {
   "cell_type": "code",
   "execution_count": 27,
   "metadata": {},
   "outputs": [
    {
     "data": {
      "text/html": [
       "<div>\n",
       "<style scoped>\n",
       "    .dataframe tbody tr th:only-of-type {\n",
       "        vertical-align: middle;\n",
       "    }\n",
       "\n",
       "    .dataframe tbody tr th {\n",
       "        vertical-align: top;\n",
       "    }\n",
       "\n",
       "    .dataframe thead th {\n",
       "        text-align: right;\n",
       "    }\n",
       "</style>\n",
       "<table border=\"1\" class=\"dataframe\">\n",
       "  <thead>\n",
       "    <tr style=\"text-align: right;\">\n",
       "      <th></th>\n",
       "      <th>user_id</th>\n",
       "      <th>tmdb_id</th>\n",
       "      <th>rating</th>\n",
       "      <th>timestamp</th>\n",
       "    </tr>\n",
       "  </thead>\n",
       "  <tbody>\n",
       "    <tr>\n",
       "      <th>0</th>\n",
       "      <td>1</td>\n",
       "      <td>4584.0</td>\n",
       "      <td>4.0</td>\n",
       "      <td>944249077</td>\n",
       "    </tr>\n",
       "    <tr>\n",
       "      <th>1</th>\n",
       "      <td>1</td>\n",
       "      <td>451.0</td>\n",
       "      <td>1.0</td>\n",
       "      <td>944250228</td>\n",
       "    </tr>\n",
       "    <tr>\n",
       "      <th>2</th>\n",
       "      <td>1</td>\n",
       "      <td>902.0</td>\n",
       "      <td>2.0</td>\n",
       "      <td>943230976</td>\n",
       "    </tr>\n",
       "    <tr>\n",
       "      <th>3</th>\n",
       "      <td>1</td>\n",
       "      <td>37557.0</td>\n",
       "      <td>5.0</td>\n",
       "      <td>944249077</td>\n",
       "    </tr>\n",
       "    <tr>\n",
       "      <th>4</th>\n",
       "      <td>1</td>\n",
       "      <td>63.0</td>\n",
       "      <td>5.0</td>\n",
       "      <td>943228858</td>\n",
       "    </tr>\n",
       "  </tbody>\n",
       "</table>\n",
       "</div>"
      ],
      "text/plain": [
       "   user_id  tmdb_id  rating  timestamp\n",
       "0        1   4584.0     4.0  944249077\n",
       "1        1    451.0     1.0  944250228\n",
       "2        1    902.0     2.0  943230976\n",
       "3        1  37557.0     5.0  944249077\n",
       "4        1     63.0     5.0  943228858"
      ]
     },
     "execution_count": 27,
     "metadata": {},
     "output_type": "execute_result"
    }
   ],
   "source": [
    "df= pd.read_csv('movielens_dataset.csv')\n",
    "df.head()"
   ]
  },
  {
   "cell_type": "code",
   "execution_count": 29,
   "metadata": {},
   "outputs": [
    {
     "data": {
      "text/plain": [
       "(31995478, 4)"
      ]
     },
     "execution_count": 29,
     "metadata": {},
     "output_type": "execute_result"
    }
   ],
   "source": [
    "df.shape"
   ]
  }
 ],
 "metadata": {
  "kernelspec": {
   "display_name": "venv",
   "language": "python",
   "name": "python3"
  },
  "language_info": {
   "codemirror_mode": {
    "name": "ipython",
    "version": 3
   },
   "file_extension": ".py",
   "mimetype": "text/x-python",
   "name": "python",
   "nbconvert_exporter": "python",
   "pygments_lexer": "ipython3",
   "version": "3.12.8"
  }
 },
 "nbformat": 4,
 "nbformat_minor": 2
}
