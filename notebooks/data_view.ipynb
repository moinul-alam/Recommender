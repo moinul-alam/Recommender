{
 "cells": [
  {
   "cell_type": "code",
   "execution_count": 28,
   "metadata": {},
   "outputs": [],
   "source": [
    "import pandas as pd\n",
    "import numpy as np\n",
    "import joblib\n"
   ]
  },
  {
   "cell_type": "code",
   "execution_count": 31,
   "metadata": {},
   "outputs": [],
   "source": [
    "src = r\"E:\\1_RecSys\\Recommender\\data\\collaborative\\v2\\2_user_item_matrix.pkl\"\n",
    "user_item_matrix = joblib.load(src)"
   ]
  },
  {
   "cell_type": "code",
   "execution_count": 32,
   "metadata": {},
   "outputs": [
    {
     "name": "stdout",
     "output_type": "stream",
     "text": [
      "Matrix shape: (610, 1297)\n",
      "Matrix type: <class 'scipy.sparse._csr.csr_matrix'>\n",
      "Matrix non-zeros: 54082\n",
      "Matrix sparsity: 0.068357\n",
      "Found 0 empty items at indices: []\n"
     ]
    },
    {
     "data": {
      "image/png": "[encoded data removed]",
      "text/plain": [
       "<Figure size 1000x600 with 1 Axes>"
      ]
     },
     "metadata": {},
     "output_type": "display_data"
    }
   ],
   "source": [
    "# Print basic information\n",
    "from matplotlib import pyplot as plt\n",
    "\n",
    "\n",
    "print(f\"Matrix shape: {user_item_matrix.shape}\")\n",
    "print(f\"Matrix type: {type(user_item_matrix)}\")\n",
    "print(f\"Matrix non-zeros: {user_item_matrix.nnz}\")\n",
    "print(f\"Matrix sparsity: {user_item_matrix.nnz / (user_item_matrix.shape[0] * user_item_matrix.shape[1]):.6f}\")\n",
    "\n",
    "# Convert to CSC format for efficient column operations\n",
    "matrix_csc = user_item_matrix.tocsc()\n",
    "\n",
    "# Count non-zeros in each column (item)\n",
    "item_interaction_counts = np.diff(matrix_csc.indptr)\n",
    "\n",
    "# Find empty items (columns with all zeros)\n",
    "empty_item_indices = np.where(item_interaction_counts == 0)[0]\n",
    "\n",
    "print(f\"Found {len(empty_item_indices)} empty items at indices: {empty_item_indices}\")\n",
    "\n",
    "# Visualize item interaction distribution\n",
    "plt.figure(figsize=(10, 6))\n",
    "plt.hist(item_interaction_counts, bins=50)\n",
    "plt.title('Distribution of Item Interactions')\n",
    "plt.xlabel('Number of Interactions')\n",
    "plt.ylabel('Count')\n",
    "plt.grid(True, alpha=0.3)\n",
    "plt.show()\n",
    "\n",
    "# If empty items were found, check them against the original data if possible\n",
    "if len(empty_item_indices) > 0:\n",
    "    print(\"\\nItems with no interactions:\")\n",
    "    for idx in empty_item_indices:\n",
    "        print(f\"Item ID: {idx}\")\n",
    "        \n",
    "    # Check items with very few interactions (might be relevant)\n",
    "    few_interactions = np.where((item_interaction_counts > 0) & (item_interaction_counts <= 5))[0]\n",
    "    print(f\"\\nFound {len(few_interactions)} items with 1-5 interactions\")\n"
   ]
  },
  {
   "cell_type": "code",
   "execution_count": null,
   "metadata": {},
   "outputs": [],
   "source": [
    "print(arr.shape)\n",
    "print(arr[:])\n"
   ]
  },
  {
   "cell_type": "code",
   "execution_count": 26,
   "metadata": {},
   "outputs": [
    {
     "name": "stdout",
     "output_type": "stream",
     "text": [
      "Number of users with zero vectors: 0\n",
      "User indices with zero vectors: []\n"
     ]
    }
   ],
   "source": [
    "# Check rows (users) that are all zeros\n",
    "nonzero_counts = arr.getnnz(axis=1)\n",
    "zero_vector_users = np.where(nonzero_counts == 0)[0]\n",
    "\n",
    "print(f\"Number of users with zero vectors: {len(zero_vector_users)}\")\n",
    "print(f\"User indices with zero vectors: {zero_vector_users}\")"
   ]
  },
  {
   "cell_type": "code",
   "execution_count": null,
   "metadata": {},
   "outputs": [],
   "source": [
    "# Check for zero vectors (rows where all elements are 0)\n",
    "zero_vector_indices = np.where(np.all(arr == 0, axis=1))[0]\n",
    "\n",
    "print(f\"Indices of zero vectors: {zero_vector_indices}\")\n",
    "print(f\"Number of zero vectors: {len(zero_vector_indices)}\")"
   ]
  }
 ],
 "metadata": {
  "kernelspec": {
   "display_name": "venv",
   "language": "python",
   "name": "python3"
  },
  "language_info": {
   "codemirror_mode": {
    "name": "ipython",
    "version": 3
   },
   "file_extension": ".py",
   "mimetype": "text/x-python",
   "name": "python",
   "nbconvert_exporter": "python",
   "pygments_lexer": "ipython3",
   "version": "3.12.8"
  }
 },
 "nbformat": 4,
 "nbformat_minor": 2
}
