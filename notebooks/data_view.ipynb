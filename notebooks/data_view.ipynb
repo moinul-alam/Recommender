{
 "cells": [
  {
   "cell_type": "code",
   "execution_count": 1,
   "metadata": {},
   "outputs": [],
   "source": [
    "import pandas as pd\n",
    "import numpy as np\n",
    "import joblib\n"
   ]
  },
  {
   "cell_type": "code",
   "execution_count": 5,
   "metadata": {},
   "outputs": [],
   "source": [
    "src = r\"E:\\1_RecSys\\Recommender\\data\\collaborative\\v2\\2_train_set.pkl\"\n",
    "df = joblib.load(src)"
   ]
  },
  {
   "cell_type": "code",
   "execution_count": null,
   "metadata": {},
   "outputs": [
    {
     "name": "stdout",
     "output_type": "stream",
     "text": [
      "       userId  movieId  rating  timestamp  \\\n",
      "22026     223      379     4.0  971811286   \n",
      "22027     223      528     5.0  971811286   \n",
      "22028     223     1154     5.0  971811286   \n",
      "22029     223      676     5.0  971811594   \n",
      "22030     223      826     1.0  971811594   \n",
      "22031     223      519     5.0  971811884   \n",
      "22032     223      822     5.0  971811884   \n",
      "22033     223     1018     5.0  971811884   \n",
      "22034     223     1042     5.0  971811884   \n",
      "22035     223      558     5.0  971811933   \n",
      "22036     223      593     5.0  971811933   \n",
      "22037     223      827     5.0  971811933   \n",
      "22038     223     1008     5.0  971811933   \n",
      "22039     223     1014     5.0  971811933   \n",
      "22040     223     1165     4.0  971811933   \n",
      "22041     223      987     4.0  971811973   \n",
      "22042     223     1122     4.0  971811973   \n",
      "22043     223      541     1.0  971812094   \n",
      "22044     223      792     5.0  971812094   \n",
      "22045     223      837     5.0  971812094   \n",
      "22046     223     1089     5.0  971812094   \n",
      "22047     223      741     5.0  971812118   \n",
      "22048     223      819     5.0  971812118   \n",
      "22049     223     1012     5.0  971812118   \n",
      "22050     223     1039     5.0  971812118   \n",
      "22051     223     1213     5.0  971812118   \n",
      "22052     223      131     2.0  971812185   \n",
      "22053     223      766     5.0  971812185   \n",
      "22054     223      346     4.0  971812264   \n",
      "22055     223      250     5.0  971812301   \n",
      "22056     223      278     4.0  971812319   \n",
      "22057     223      888     4.0  971812591   \n",
      "22058     223     1162     5.0  971812591   \n",
      "22059     223     1233     5.0  971812591   \n",
      "22060     223      780     4.0  971812611   \n",
      "22061     223      524     5.0  971812765   \n",
      "22062     223     1102     4.0  971812765   \n",
      "22063     223      384     1.0  971812789   \n",
      "\n",
      "                                            title  \\\n",
      "22026                It's a Wonderful Life (1946)   \n",
      "22027                   Back to the Future (1985)   \n",
      "22028                Whole Nine Yards, The (2000)   \n",
      "22029                              Titanic (1997)   \n",
      "22030                                Blade (1998)   \n",
      "22031                          Stand by Me (1986)   \n",
      "22032              Gods Must Be Crazy, The (1980)   \n",
      "22033                   Christmas Story, A (1983)   \n",
      "22034             Ferris Bueller's Day Off (1986)   \n",
      "22035              When Harry Met Sally... (1989)   \n",
      "22036                      Raising Arizona (1987)   \n",
      "22037                          Beetlejuice (1988)   \n",
      "22038                            Airplane! (1980)   \n",
      "22039                                  Big (1988)   \n",
      "22040                          Bull Durham (1988)   \n",
      "22041  Ghostbusters (a.k.a. Ghost Busters) (1984)   \n",
      "22042         Fast Times at Ridgemont High (1982)   \n",
      "22043                             Heathers (1989)   \n",
      "22044                               Splash (1984)   \n",
      "22045                      Say Anything... (1989)   \n",
      "22046                           Moonstruck (1987)   \n",
      "22047                  Breakfast Club, The (1985)   \n",
      "22048                      Sixteen Candles (1984)   \n",
      "22049          National Lampoon's Vacation (1983)   \n",
      "22050                       Risky Business (1983)   \n",
      "22051                           Caddyshack (1980)   \n",
      "22052   Star Wars: Episode IV - A New Hope (1977)   \n",
      "22053                  Saving Private Ryan (1998)   \n",
      "22054                       Godfather, The (1972)   \n",
      "22055                     Schindler's List (1993)   \n",
      "22056            Silence of the Lambs, The (1991)   \n",
      "22057                  Shakespeare in Love (1998)   \n",
      "22058                  Defending Your Life (1991)   \n",
      "22059                     Romeo and Juliet (1968)   \n",
      "22060                   Lady and the Tramp (1955)   \n",
      "22061                        Groundhog Day (1993)   \n",
      "22062                     Fisher King, The (1991)   \n",
      "22063                   African Queen, The (1951)   \n",
      "\n",
      "                                  genres  imdbId   tmdbId  \n",
      "22026     Children|Drama|Fantasy|Romance   38650   1585.0  \n",
      "22027            Adventure|Comedy|Sci-Fi   88763    105.0  \n",
      "22028                       Comedy|Crime  190138   2069.0  \n",
      "22029                      Drama|Romance  120338    597.0  \n",
      "22030             Action|Horror|Thriller  120611  36647.0  \n",
      "22031                    Adventure|Drama   92005    235.0  \n",
      "22032                   Adventure|Comedy   80801   8393.0  \n",
      "22033                    Children|Comedy   85334    850.0  \n",
      "22034                             Comedy   91042   9377.0  \n",
      "22035                     Comedy|Romance   98635    639.0  \n",
      "22036                             Comedy   93822    378.0  \n",
      "22037                     Comedy|Fantasy   94721   4011.0  \n",
      "22038                             Comedy   80339    813.0  \n",
      "22039       Comedy|Drama|Fantasy|Romance   94737   2280.0  \n",
      "22040               Comedy|Drama|Romance   94812    287.0  \n",
      "22041               Action|Comedy|Sci-Fi   87332    620.0  \n",
      "22042               Comedy|Drama|Romance   83929  13342.0  \n",
      "22043                             Comedy   97493   2640.0  \n",
      "22044             Comedy|Fantasy|Romance   88161   2619.0  \n",
      "22045               Comedy|Drama|Romance   98258   2028.0  \n",
      "22046                     Comedy|Romance   93565   2039.0  \n",
      "22047                       Comedy|Drama   88847   2108.0  \n",
      "22048                     Comedy|Romance   88128  15144.0  \n",
      "22049                             Comedy   85995  11153.0  \n",
      "22050                             Comedy   86200   9346.0  \n",
      "22051                             Comedy   80487  11977.0  \n",
      "22052            Action|Adventure|Sci-Fi   76759     11.0  \n",
      "22053                   Action|Drama|War  120815    857.0  \n",
      "22054                        Crime|Drama   68646    238.0  \n",
      "22055                          Drama|War  108052    424.0  \n",
      "22056              Crime|Horror|Thriller  102926    274.0  \n",
      "22057               Comedy|Drama|Romance  138097   1934.0  \n",
      "22058       Comedy|Drama|Fantasy|Romance  101698  12186.0  \n",
      "22059                      Drama|Romance   63518   6003.0  \n",
      "22060  Animation|Children|Comedy|Romance   48280  10340.0  \n",
      "22061             Comedy|Fantasy|Romance  107048    137.0  \n",
      "22062       Comedy|Drama|Fantasy|Romance  101889    177.0  \n",
      "22063       Adventure|Comedy|Romance|War   43265    488.0  \n"
     ]
    }
   ],
   "source": [
    "df = df[df['userId'] == 223]\n",
    "print(df.shape(0))\n"
   ]
  },
  {
   "cell_type": "code",
   "execution_count": null,
   "metadata": {},
   "outputs": [],
   "source": [
    "# print(user_item_matrix)\n",
    "specific_tmdb_id = 22  # Replace with the TMDB ID you want to check\n",
    "\n",
    "if specific_tmdb_id in user_item_matrix:\n",
    "    movie_id = user_item_matrix[specific_tmdb_id]\n",
    "    print(f\"TMDB ID {specific_tmdb_id} maps to Movie ID: {movie_id}\")\n",
    "else:\n",
    "    print(f\"TMDB ID {specific_tmdb_id} not found in the dictionary.\")"
   ]
  },
  {
   "cell_type": "code",
   "execution_count": 14,
   "metadata": {},
   "outputs": [
    {
     "name": "stdout",
     "output_type": "stream",
     "text": [
      "Matrix shape: (610, 2269)\n",
      "Matrix type: <class 'scipy.sparse._csr.csr_matrix'>\n",
      "Matrix non-zeros: 64660\n",
      "Matrix sparsity: 0.046717\n",
      "Found 0 empty items at indices: []\n"
     ]
    },
    {
     "data": {
      "image/png": "[encoded data removed]",
      "text/plain": [
       "<Figure size 1000x600 with 1 Axes>"
      ]
     },
     "metadata": {},
     "output_type": "display_data"
    }
   ],
   "source": [
    "# Print basic information\n",
    "from matplotlib import pyplot as plt\n",
    "\n",
    "\n",
    "print(f\"Matrix shape: {user_item_matrix.shape}\")\n",
    "print(f\"Matrix type: {type(user_item_matrix)}\")\n",
    "print(f\"Matrix non-zeros: {user_item_matrix.nnz}\")\n",
    "print(f\"Matrix sparsity: {user_item_matrix.nnz / (user_item_matrix.shape[0] * user_item_matrix.shape[1]):.6f}\")\n",
    "\n",
    "# Convert to CSC format for efficient column operations\n",
    "matrix_csc = user_item_matrix.tocsc()\n",
    "\n",
    "# Count non-zeros in each column (item)\n",
    "item_interaction_counts = np.diff(matrix_csc.indptr)\n",
    "\n",
    "# Find empty items (columns with all zeros)\n",
    "empty_item_indices = np.where(item_interaction_counts == 0)[0]\n",
    "\n",
    "print(f\"Found {len(empty_item_indices)} empty items at indices: {empty_item_indices}\")\n",
    "\n",
    "# Visualize item interaction distribution\n",
    "plt.figure(figsize=(10, 6))\n",
    "plt.hist(item_interaction_counts, bins=50)\n",
    "plt.title('Distribution of Item Interactions')\n",
    "plt.xlabel('Number of Interactions')\n",
    "plt.ylabel('Count')\n",
    "plt.grid(True, alpha=0.3)\n",
    "plt.show()\n",
    "\n",
    "# If empty items were found, check them against the original data if possible\n",
    "if len(empty_item_indices) > 0:\n",
    "    print(\"\\nItems with no interactions:\")\n",
    "    for idx in empty_item_indices:\n",
    "        print(f\"Item ID: {idx}\")\n",
    "        \n",
    "    # Check items with very few interactions (might be relevant)\n",
    "    few_interactions = np.where((item_interaction_counts > 0) & (item_interaction_counts <= 5))[0]\n",
    "    print(f\"\\nFound {len(few_interactions)} items with 1-5 interactions\")\n"
   ]
  },
  {
   "cell_type": "code",
   "execution_count": null,
   "metadata": {},
   "outputs": [],
   "source": [
    "print(arr.shape)\n",
    "print(arr[:])\n"
   ]
  },
  {
   "cell_type": "code",
   "execution_count": 26,
   "metadata": {},
   "outputs": [
    {
     "name": "stdout",
     "output_type": "stream",
     "text": [
      "Number of users with zero vectors: 0\n",
      "User indices with zero vectors: []\n"
     ]
    }
   ],
   "source": [
    "# Check rows (users) that are all zeros\n",
    "nonzero_counts = arr.getnnz(axis=1)\n",
    "zero_vector_users = np.where(nonzero_counts == 0)[0]\n",
    "\n",
    "print(f\"Number of users with zero vectors: {len(zero_vector_users)}\")\n",
    "print(f\"User indices with zero vectors: {zero_vector_users}\")"
   ]
  },
  {
   "cell_type": "code",
   "execution_count": null,
   "metadata": {},
   "outputs": [],
   "source": [
    "# Check for zero vectors (rows where all elements are 0)\n",
    "zero_vector_indices = np.where(np.all(arr == 0, axis=1))[0]\n",
    "\n",
    "print(f\"Indices of zero vectors: {zero_vector_indices}\")\n",
    "print(f\"Number of zero vectors: {len(zero_vector_indices)}\")"
   ]
  }
 ],
 "metadata": {
  "kernelspec": {
   "display_name": "venv",
   "language": "python",
   "name": "python3"
  },
  "language_info": {
   "codemirror_mode": {
    "name": "ipython",
    "version": 3
   },
   "file_extension": ".py",
   "mimetype": "text/x-python",
   "name": "python",
   "nbconvert_exporter": "python",
   "pygments_lexer": "ipython3",
   "version": "3.12.8"
  }
 },
 "nbformat": 4,
 "nbformat_minor": 2
}
