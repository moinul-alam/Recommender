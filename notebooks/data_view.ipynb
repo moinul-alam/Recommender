{
 "cells": [
  {
   "cell_type": "code",
   "execution_count": 1,
   "metadata": {},
   "outputs": [],
   "source": [
    "import pandas as pd\n",
    "import numpy as np"
   ]
  },
  {
   "cell_type": "code",
   "execution_count": 19,
   "metadata": {},
   "outputs": [],
   "source": [
    "npz_data = np.load('../data/content_based/v4/4_final_feature_matrix.npz')\n",
    "npy_data = np.load('../data/content_based/v4/4_final_item_ids.npy')"
   ]
  },
  {
   "cell_type": "code",
   "execution_count": 13,
   "metadata": {},
   "outputs": [
    {
     "name": "stdout",
     "output_type": "stream",
     "text": [
      "keys:  ['indices', 'indptr', 'format', 'shape', 'data']\n"
     ]
    }
   ],
   "source": [
    "print('keys: ', npz_data.files)\n"
   ]
  },
  {
   "cell_type": "code",
   "execution_count": 18,
   "metadata": {},
   "outputs": [
    {
     "name": "stdout",
     "output_type": "stream",
     "text": [
      "data:  [0.12721588 0.10398625 0.10993282 ... 0.04       0.01463605 0.01363034]\n"
     ]
    }
   ],
   "source": [
    "data = npz_data['data']\n",
    "print('data: ', data)"
   ]
  },
  {
   "cell_type": "code",
   "execution_count": 20,
   "metadata": {},
   "outputs": [
    {
     "name": "stdout",
     "output_type": "stream",
     "text": [
      "data shape:  (157820,)\n",
      "Few Values:  [1 2 3 4 5]\n"
     ]
    }
   ],
   "source": [
    "print('data shape: ', npy_data.shape)\n",
    "print('Few Values: ', npy_data[:5])"
   ]
  }
 ],
 "metadata": {
  "kernelspec": {
   "display_name": "venv",
   "language": "python",
   "name": "python3"
  },
  "language_info": {
   "codemirror_mode": {
    "name": "ipython",
    "version": 3
   },
   "file_extension": ".py",
   "mimetype": "text/x-python",
   "name": "python",
   "nbconvert_exporter": "python",
   "pygments_lexer": "ipython3",
   "version": "3.12.8"
  }
 },
 "nbformat": 4,
 "nbformat_minor": 2
}
