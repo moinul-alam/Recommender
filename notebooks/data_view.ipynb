{
 "cells": [
  {
   "cell_type": "code",
   "execution_count": 12,
   "metadata": {},
   "outputs": [],
   "source": [
    "import pandas as pd\n",
    "import numpy as np\n",
    "import joblib\n"
   ]
  },
  {
   "cell_type": "code",
   "execution_count": 17,
   "metadata": {},
   "outputs": [],
   "source": [
    "src = r\"E:\\1_RecSys\\Recommender\\data\\collaborative\\v2\\2_user_item_mappings.pkl\"\n",
    "user_item_matrix = joblib.load(src)"
   ]
  },
  {
   "cell_type": "code",
   "execution_count": null,
   "metadata": {},
   "outputs": [],
   "source": [
    "print(user_item_matrix)"
   ]
  },
  {
   "cell_type": "code",
   "execution_count": 15,
   "metadata": {},
   "outputs": [
    {
     "name": "stdout",
     "output_type": "stream",
     "text": [
      "Matrix shape: (610, 300)\n",
      "Matrix type: <class 'numpy.ndarray'>\n"
     ]
    },
    {
     "ename": "AttributeError",
     "evalue": "'numpy.ndarray' object has no attribute 'nnz'",
     "output_type": "error",
     "traceback": [
      "\u001b[31m---------------------------------------------------------------------------\u001b[39m",
      "\u001b[31mAttributeError\u001b[39m                            Traceback (most recent call last)",
      "\u001b[36mCell\u001b[39m\u001b[36m \u001b[39m\u001b[32mIn[15]\u001b[39m\u001b[32m, line 7\u001b[39m\n\u001b[32m      5\u001b[39m \u001b[38;5;28mprint\u001b[39m(\u001b[33mf\u001b[39m\u001b[33m\"\u001b[39m\u001b[33mMatrix shape: \u001b[39m\u001b[38;5;132;01m{\u001b[39;00muser_item_matrix.shape\u001b[38;5;132;01m}\u001b[39;00m\u001b[33m\"\u001b[39m)\n\u001b[32m      6\u001b[39m \u001b[38;5;28mprint\u001b[39m(\u001b[33mf\u001b[39m\u001b[33m\"\u001b[39m\u001b[33mMatrix type: \u001b[39m\u001b[38;5;132;01m{\u001b[39;00m\u001b[38;5;28mtype\u001b[39m(user_item_matrix)\u001b[38;5;132;01m}\u001b[39;00m\u001b[33m\"\u001b[39m)\n\u001b[32m----> \u001b[39m\u001b[32m7\u001b[39m \u001b[38;5;28mprint\u001b[39m(\u001b[33mf\u001b[39m\u001b[33m\"\u001b[39m\u001b[33mMatrix non-zeros: \u001b[39m\u001b[38;5;132;01m{\u001b[39;00m\u001b[43muser_item_matrix\u001b[49m\u001b[43m.\u001b[49m\u001b[43mnnz\u001b[49m\u001b[38;5;132;01m}\u001b[39;00m\u001b[33m\"\u001b[39m)\n\u001b[32m      8\u001b[39m \u001b[38;5;28mprint\u001b[39m(\u001b[33mf\u001b[39m\u001b[33m\"\u001b[39m\u001b[33mMatrix sparsity: \u001b[39m\u001b[38;5;132;01m{\u001b[39;00muser_item_matrix.nnz\u001b[38;5;250m \u001b[39m/\u001b[38;5;250m \u001b[39m(user_item_matrix.shape[\u001b[32m0\u001b[39m]\u001b[38;5;250m \u001b[39m*\u001b[38;5;250m \u001b[39muser_item_matrix.shape[\u001b[32m1\u001b[39m])\u001b[38;5;132;01m:\u001b[39;00m\u001b[33m.6f\u001b[39m\u001b[38;5;132;01m}\u001b[39;00m\u001b[33m\"\u001b[39m)\n\u001b[32m     10\u001b[39m \u001b[38;5;66;03m# Convert to CSC format for efficient column operations\u001b[39;00m\n",
      "\u001b[31mAttributeError\u001b[39m: 'numpy.ndarray' object has no attribute 'nnz'"
     ]
    }
   ],
   "source": [
    "# Print basic information\n",
    "from matplotlib import pyplot as plt\n",
    "\n",
    "\n",
    "print(f\"Matrix shape: {user_item_matrix.shape}\")\n",
    "print(f\"Matrix type: {type(user_item_matrix)}\")\n",
    "print(f\"Matrix non-zeros: {user_item_matrix.nnz}\")\n",
    "print(f\"Matrix sparsity: {user_item_matrix.nnz / (user_item_matrix.shape[0] * user_item_matrix.shape[1]):.6f}\")\n",
    "\n",
    "# Convert to CSC format for efficient column operations\n",
    "matrix_csc = user_item_matrix.tocsc()\n",
    "\n",
    "# Count non-zeros in each column (item)\n",
    "item_interaction_counts = np.diff(matrix_csc.indptr)\n",
    "\n",
    "# Find empty items (columns with all zeros)\n",
    "empty_item_indices = np.where(item_interaction_counts == 0)[0]\n",
    "\n",
    "print(f\"Found {len(empty_item_indices)} empty items at indices: {empty_item_indices}\")\n",
    "\n",
    "# Visualize item interaction distribution\n",
    "plt.figure(figsize=(10, 6))\n",
    "plt.hist(item_interaction_counts, bins=50)\n",
    "plt.title('Distribution of Item Interactions')\n",
    "plt.xlabel('Number of Interactions')\n",
    "plt.ylabel('Count')\n",
    "plt.grid(True, alpha=0.3)\n",
    "plt.show()\n",
    "\n",
    "# If empty items were found, check them against the original data if possible\n",
    "if len(empty_item_indices) > 0:\n",
    "    print(\"\\nItems with no interactions:\")\n",
    "    for idx in empty_item_indices:\n",
    "        print(f\"Item ID: {idx}\")\n",
    "        \n",
    "    # Check items with very few interactions (might be relevant)\n",
    "    few_interactions = np.where((item_interaction_counts > 0) & (item_interaction_counts <= 5))[0]\n",
    "    print(f\"\\nFound {len(few_interactions)} items with 1-5 interactions\")\n"
   ]
  },
  {
   "cell_type": "code",
   "execution_count": null,
   "metadata": {},
   "outputs": [],
   "source": [
    "print(arr.shape)\n",
    "print(arr[:])\n"
   ]
  },
  {
   "cell_type": "code",
   "execution_count": 26,
   "metadata": {},
   "outputs": [
    {
     "name": "stdout",
     "output_type": "stream",
     "text": [
      "Number of users with zero vectors: 0\n",
      "User indices with zero vectors: []\n"
     ]
    }
   ],
   "source": [
    "# Check rows (users) that are all zeros\n",
    "nonzero_counts = arr.getnnz(axis=1)\n",
    "zero_vector_users = np.where(nonzero_counts == 0)[0]\n",
    "\n",
    "print(f\"Number of users with zero vectors: {len(zero_vector_users)}\")\n",
    "print(f\"User indices with zero vectors: {zero_vector_users}\")"
   ]
  },
  {
   "cell_type": "code",
   "execution_count": null,
   "metadata": {},
   "outputs": [],
   "source": [
    "# Check for zero vectors (rows where all elements are 0)\n",
    "zero_vector_indices = np.where(np.all(arr == 0, axis=1))[0]\n",
    "\n",
    "print(f\"Indices of zero vectors: {zero_vector_indices}\")\n",
    "print(f\"Number of zero vectors: {len(zero_vector_indices)}\")"
   ]
  }
 ],
 "metadata": {
  "kernelspec": {
   "display_name": "venv",
   "language": "python",
   "name": "python3"
  },
  "language_info": {
   "codemirror_mode": {
    "name": "ipython",
    "version": 3
   },
   "file_extension": ".py",
   "mimetype": "text/x-python",
   "name": "python",
   "nbconvert_exporter": "python",
   "pygments_lexer": "ipython3",
   "version": "3.12.8"
  }
 },
 "nbformat": 4,
 "nbformat_minor": 2
}
